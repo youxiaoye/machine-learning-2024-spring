{
 "cells": [
  {
   "cell_type": "markdown",
   "id": "21618b16",
   "metadata": {},
   "source": [
    "# Lab.2 Logistic回归算法(非线性)"
   ]
  },
  {
   "cell_type": "markdown",
   "id": "6b98d9ff",
   "metadata": {},
   "source": [
    "## 1.读取数据"
   ]
  },
  {
   "cell_type": "code",
   "execution_count": 2,
   "id": "223b243f",
   "metadata": {},
   "outputs": [],
   "source": [
    "import numpy as np\n",
    "import matplotlib.pyplot as plt\n",
    "import scipy.optimize as op"
   ]
  },
  {
   "cell_type": "code",
   "execution_count": 3,
   "id": "c0660eac",
   "metadata": {},
   "outputs": [
    {
     "name": "stdout",
     "output_type": "stream",
     "text": [
      "(118, 2) (118, 1) 118\n"
     ]
    }
   ],
   "source": [
    "#使用loadtxt函数读取数据存于变量ex2data2\n",
    "#使用变量X储存ex2data2的前两列数据（芯片的两项测试结果）\n",
    "#使用变量y储存ex2data2的第三列数据（标签，1表示通过测试，0表示不能通过）\n",
    "#使用变量m储存样本数量\n",
    "ex2data2= np.loadtxt(r'D:\\browser download\\machine-learning-ex2.2\\ex2data2.txt',delimiter=',')\n",
    "X=ex2data2[:,0:2]\n",
    "y=ex2data2[:,[2]]\n",
    "m=np.shape(y)[0]\n",
    "print(X.shape, y.shape,m)"
   ]
  },
  {
   "cell_type": "markdown",
   "id": "afb483b0",
   "metadata": {},
   "source": [
    "## 2.可视化数据"
   ]
  },
  {
   "cell_type": "code",
   "execution_count": 5,
   "id": "f10dc6ad",
   "metadata": {},
   "outputs": [
    {
     "data": {
      "image/png": "[encoded data removed]",
      "text/plain": [
       "<Figure size 640x480 with 1 Axes>"
      ]
     },
     "metadata": {},
     "output_type": "display_data"
    }
   ],
   "source": [
    "# 使用plt.plot（）函数绘制散点图，使用不同颜色绘制正例和负例\n",
    "plt.xlabel('Microchip Test 1')\n",
    "plt.ylabel('Microchip Test 2')\n",
    "for i in range(m):\n",
    "    if y[i]==1:\n",
    "        plt.plot(X[i,0],X[i,1],'or')\n",
    "    elif y[i]==0:\n",
    "        plt.plot(X[i,0],X[i,1],'ob')"
   ]
  },
  {
   "cell_type": "markdown",
   "id": "b843176a",
   "metadata": {},
   "source": [
    "## 3.训练Logistic模型\n",
    "\n",
    "### 3.1数据预处理：多项式特征构造，初始化θ，初始化正则化参数lambda"
   ]
  },
  {
   "cell_type": "code",
   "execution_count": 70,
   "id": "d0e2c0f6",
   "metadata": {
    "scrolled": true
   },
   "outputs": [
    {
     "name": "stdout",
     "output_type": "stream",
     "text": [
      "(118,) (118,)\n",
      "[[ 1.00000000e+00  5.12670000e-02  6.99560000e-01 ...  6.29470940e-04\n",
      "   8.58939846e-03  1.17205992e-01]\n",
      " [ 1.00000000e+00 -9.27420000e-02  6.84940000e-01 ...  1.89305413e-03\n",
      "  -1.39810280e-02  1.03255971e-01]\n",
      " [ 1.00000000e+00 -2.13710000e-01  6.92250000e-01 ...  1.04882142e-02\n",
      "  -3.39734512e-02  1.10046893e-01]\n",
      " ...\n",
      " [ 1.00000000e+00 -4.84450000e-01  9.99270000e-01 ...  2.34007252e-01\n",
      "  -4.82684337e-01  9.95627986e-01]\n",
      " [ 1.00000000e+00 -6.33640000e-03  9.99270000e-01 ...  4.00328554e-05\n",
      "  -6.31330588e-03  9.95627986e-01]\n",
      " [ 1.00000000e+00  6.32650000e-01 -3.06120000e-02 ...  3.51474517e-07\n",
      "  -1.70067777e-08  8.22905998e-10]]\n",
      "[[0.]\n",
      " [0.]\n",
      " [0.]\n",
      " [0.]\n",
      " [0.]\n",
      " [0.]\n",
      " [0.]\n",
      " [0.]\n",
      " [0.]\n",
      " [0.]\n",
      " [0.]\n",
      " [0.]\n",
      " [0.]\n",
      " [0.]\n",
      " [0.]\n",
      " [0.]\n",
      " [0.]\n",
      " [0.]\n",
      " [0.]\n",
      " [0.]\n",
      " [0.]\n",
      " [0.]\n",
      " [0.]\n",
      " [0.]\n",
      " [0.]\n",
      " [0.]\n",
      " [0.]\n",
      " [0.]]\n",
      "1\n",
      "(118, 28) (118,) (28, 1)\n"
     ]
    }
   ],
   "source": [
    "#完成函数mapFeature，输入特征值x1,x2后，返回一个数组,该数组存储维度扩增后的特征值，特征最高次为6次\n",
    "#将X的前两列分别作为参数X1,X2传入mapFeatrure，并用变量x接收完成构造的特征值数组\n",
    "#使用np.zeros初始化theta,规模为特征数量*1（特这个数量为np.shape(x)[1]）\n",
    "#初始化正则化参数lbd为1\n",
    "def mapFeature(X1,X2):\n",
    "    degree = 6 # 每个Featuer的最高次\n",
    "    m=np.size(X1)\n",
    "    x_mapped=np.ones((m,1))\n",
    "    for i in range(1,degree+1):\n",
    "        for j in range(i+1):\n",
    "            feature = (X1 ** (i - j)) * (X2 ** j)\n",
    "            x_mapped = np.hstack((x_mapped, feature.reshape(-1, 1)))\n",
    "            \n",
    "    return x_mapped\n",
    "\n",
    "X1=X[:,0]\n",
    "X2=X[:,1]\n",
    "print(X1.shape,X2.shape)\n",
    "x=mapFeature(X1,X2)\n",
    "print(x)\n",
    "theta=np.zeros((x.shape[1],1))\n",
    "print(theta)\n",
    "lbd=1\n",
    "print(lbd)\n",
    "print(x.shape,y.shape,theta.shape)"
   ]
  },
  {
   "cell_type": "markdown",
   "id": "3d4af0f5",
   "metadata": {},
   "source": [
    "### 3.2定义损失函数、梯度"
   ]
  },
  {
   "cell_type": "code",
   "execution_count": 48,
   "id": "f55300ac",
   "metadata": {},
   "outputs": [
    {
     "name": "stdout",
     "output_type": "stream",
     "text": [
      "正则化损失函数值: [0.69314718]\n",
      "正则化梯度: [8.47457627e-03 1.87880932e-02 7.77711864e-05 5.03446395e-02\n",
      " 1.15013308e-02 3.76648474e-02 1.83559872e-02 7.32393391e-03\n",
      " 8.19244468e-03 2.34764889e-02 3.93486234e-02 2.23923907e-03\n",
      " 1.28600503e-02 3.09593720e-03 3.93028171e-02 1.99707467e-02\n",
      " 4.32983232e-03 3.38643902e-03 5.83822078e-03 4.47629067e-03\n",
      " 3.10079849e-02 3.10312442e-02 1.09740238e-03 6.31570797e-03\n",
      " 4.08503006e-04 7.26504316e-03 1.37646175e-03 3.87936363e-02]\n"
     ]
    }
   ],
   "source": [
    "# 完成正则化的损失函数costFunction(),返回值为一维数组\n",
    "# 完成正则化的梯度计算gradient()，返回值为一维数组\n",
    "def sigmoid(z):\n",
    "    g = np.zeros(np.shape(z))\n",
    "    g = 1/(1+np.exp(-1*z))\n",
    "    return g\n",
    "\n",
    "def costFunction(theta, X, y, lbd):\n",
    "    m = len(y)\n",
    "    h = sigmoid(X.dot(theta))\n",
    "    J = (-1/m) * (y.dot(np.log(h)) + (1-y).dot(np.log(1-h)))\n",
    "    reg_term = (lbd/(2*m)) * np.sum(theta[1:]**2)  \n",
    "    J_reg = J + reg_term\n",
    "    return J_reg.flatten()\n",
    "\n",
    "\n",
    "def gradient(theta, X, y, lbd):\n",
    "    m = len(y)\n",
    "    h = sigmoid(X.dot(theta))\n",
    "    grad = (1/m) * X.T.dot(h - y)\n",
    "    reg_term = (lbd/m) * theta\n",
    "    reg_term[0] = 0  \n",
    "    grad_reg = grad + reg_term\n",
    "    return grad_reg.flatten()\n",
    "\n",
    "cost = costFunction(theta, x, y, lbd)\n",
    "grad = gradient(theta, x, y, lbd)\n",
    "\n",
    "print(\"正则化损失函数值:\", cost)\n",
    "print(\"正则化梯度:\", grad)"
   ]
  },
  {
   "cell_type": "markdown",
   "id": "e369e9b9",
   "metadata": {},
   "source": [
    "### 3.3使用scipy.optimize.minimize求最小损失对应的参数theta\n",
    "\n",
    "在Python中使用Scipy包下的scipy.optimize.minimize(fun, x0, args=(), method, jac)方法参数的维度要求很严格:  \n",
    "1.fun为进行优化的目标函数，传入需调用的函数名（不需要加括号），此处为fun=costFunction。需注意调用的函数第一个参数（theta）和返回值（J）必须为一维数组  \n",
    "2.x0即theta需传入一维数组  \n",
    "3.args传入fun需要的其他参数，需用tuple传入  \n",
    "4.method指定优化算法，此处我们使用method='TNC'  \n",
    "5.jac调用梯度计算函数传入参数需与fun调用函数完全相同，且返回值为一维数组  \n",
    "高维数组a调整为一维可以使用a.flatten() ，该函数会产生一个副本，不会直接改变a的维度"
   ]
  },
  {
   "cell_type": "code",
   "execution_count": 49,
   "id": "5d3b9618",
   "metadata": {},
   "outputs": [
    {
     "name": "stdout",
     "output_type": "stream",
     "text": [
      "1 1 1\n"
     ]
    }
   ],
   "source": [
    "# 验证参数维度是否符合要求：代价函数和梯度函数的返回值为一维数组、传入x0的参数theta为一维数组\n",
    "print(cost.ndim, grad.ndim,np.ndim(theta.flatten()))"
   ]
  },
  {
   "cell_type": "code",
   "execution_count": 51,
   "id": "93701248",
   "metadata": {},
   "outputs": [
    {
     "name": "stdout",
     "output_type": "stream",
     "text": [
      " message: Converged (|f_n-f_(n-1)| ~= 0)\n",
      " success: True\n",
      "  status: 1\n",
      "     fun: 0.5290027299645269\n",
      "       x: [ 1.273e+00  6.253e-01 ... -1.439e-01 -9.247e-01]\n",
      "     nit: 7\n",
      "     jac: [-2.152e-06  6.794e-07 ...  1.664e-08 -7.352e-07]\n",
      "    nfev: 32\n",
      "[ 1.27271026  0.62529964  1.18111686 -2.01987399 -0.91743189 -1.43166928\n",
      "  0.12393228 -0.36553118 -0.35725404 -0.17516292 -1.45817008 -0.05098417\n",
      " -0.61558558 -0.27469164 -1.19271299 -0.24217841 -0.20603303 -0.04466177\n",
      " -0.27778947 -0.29539513 -0.45645982 -1.04319153  0.02779373 -0.29244865\n",
      "  0.01555759 -0.32742404 -0.14389149 -0.92467489]\n"
     ]
    }
   ],
   "source": [
    "from scipy.optimize import minimize\n",
    "result = minimize(fun=costFunction,x0=theta.flatten(),args=(x,y,lbd),method='TNC',jac=gradient)\n",
    "theta_star = result.x\n",
    "print(result)\n",
    "print(theta_star)"
   ]
  },
  {
   "cell_type": "markdown",
   "id": "75122221",
   "metadata": {},
   "source": [
    "## 4.评估Logistic回归模型\n",
    "\n",
    "### 4.1绘制决策边界\n"
   ]
  },
  {
   "cell_type": "code",
   "execution_count": 66,
   "id": "65ce0c56",
   "metadata": {},
   "outputs": [
    {
     "name": "stderr",
     "output_type": "stream",
     "text": [
      "C:\\Users\\孙嘉泽\\AppData\\Local\\Temp\\ipykernel_24620\\2527354072.py:14: DeprecationWarning: Conversion of an array with ndim > 0 to a scalar is deprecated, and will error in future. Ensure you extract a single element from your array before performing this operation. (Deprecated NumPy 1.25.)\n",
      "  x_theta[i][j] = np.dot(mapFeature(grid_x1[i], grid_x2[j]), theta_star)\n"
     ]
    },
    {
     "data": {
      "image/png": "[encoded data removed]",
      "text/plain": [
       "<Figure size 640x480 with 1 Axes>"
      ]
     },
     "metadata": {},
     "output_type": "display_data"
    }
   ],
   "source": [
    "plt.xlabel('Microchip Test 1')\n",
    "plt.ylabel('Microchip Test 2')\n",
    "for i in range(m):\n",
    "    if y[i] == 1: \n",
    "        plt.plot(X[i,0], X[i,1], 'or')\n",
    "    elif y[i] == 0: \n",
    "        plt.plot(X[i,0], X[i,1], 'ob')\n",
    "\n",
    "grid_x1 = np.linspace(-1, 1.5, 50)\n",
    "grid_x2 = np.linspace(-1, 1.5, 50)\n",
    "x_theta = np.zeros((grid_x1.size,grid_x2.size))\n",
    "for i in range(grid_x1.size):\n",
    "    for j in range(grid_x2.size):\n",
    "        x_theta[i][j] = np.dot(mapFeature(grid_x1[i], grid_x2[j]), theta_star)\n",
    "x_theta = x_theta.T\n",
    "plt.contour(grid_x1, grid_x2, x_theta,[0], colors='green' )\n",
    "\n",
    "plt.savefig('test2.svg', dpi=300, format='svg')\n",
    "plt.show()"
   ]
  },
  {
   "cell_type": "markdown",
   "id": "7c9fc7f0",
   "metadata": {},
   "source": [
    "### 4.2计算模型准确率"
   ]
  },
  {
   "cell_type": "code",
   "execution_count": 73,
   "id": "a04e973e",
   "metadata": {},
   "outputs": [
    {
     "name": "stdout",
     "output_type": "stream",
     "text": [
      "模型在训练集上的准确率为: 83.05084745762711%\n"
     ]
    }
   ],
   "source": [
    "def predict(theta, X):\n",
    "    h = sigmoid(X.dot(theta))\n",
    "    predictions = (h >= 0.5).astype(int)\n",
    "    return predictions\n",
    "\n",
    "\n",
    "predictions = predict(theta_star, x)\n",
    "\n",
    "\n",
    "accuracy = np.mean(predictions == y.flatten()) * 100\n",
    "print(f\"模型在训练集上的准确率为: {accuracy}%\")\n"
   ]
  },
  {
   "cell_type": "code",
   "execution_count": null,
   "id": "0109c0e9-97f3-4bb2-b306-2891971ca805",
   "metadata": {},
   "outputs": [],
   "source": []
  },
  {
   "cell_type": "code",
   "execution_count": null,
   "id": "7041d018-06fd-4f21-8615-3febd1057973",
   "metadata": {},
   "outputs": [],
   "source": []
  },
  {
   "cell_type": "code",
   "execution_count": null,
   "id": "4c51eb2c-6078-4e4f-9e08-8c0a7905d8b0",
   "metadata": {},
   "outputs": [],
   "source": []
  }
 ],
 "metadata": {
  "kernelspec": {
   "display_name": "Python 3 (ipykernel)",
   "language": "python",
   "name": "python3"
  },
  "language_info": {
   "codemirror_mode": {
    "name": "ipython",
    "version": 3
   },
   "file_extension": ".py",
   "mimetype": "text/x-python",
   "name": "python",
   "nbconvert_exporter": "python",
   "pygments_lexer": "ipython3",
   "version": "3.11.8"
  },
  "vscode": {
   "interpreter": {
    "hash": "5cb9523a3ce612da594b1721626e95f90edbb30067f86e1c6d953bc531f0cdd1"
   }
  }
 },
 "nbformat": 4,
 "nbformat_minor": 5
}
