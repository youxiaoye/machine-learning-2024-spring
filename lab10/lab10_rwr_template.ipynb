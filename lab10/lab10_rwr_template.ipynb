{
 "cells": [
  {
   "cell_type": "code",
   "execution_count": 7,
   "metadata": {},
   "outputs": [
    {
     "name": "stdout",
     "output_type": "stream",
     "text": [
      "PR 455 is 1.0\n",
      "Related genes (top 10):\n",
      "Gene 455: 0.1192\n",
      "Gene 456: 0.0501\n",
      "Gene 458: 0.0451\n",
      "Gene 770: 0.0283\n",
      "Gene 196: 0.0053\n",
      "Gene 3834: 0.0048\n",
      "Gene 760: 0.0039\n",
      "Gene 457: 0.0027\n",
      "Gene 5090: 0.0027\n",
      "Gene 3978: 0.0021\n"
     ]
    }
   ],
   "source": [
    "import numpy as np\n",
    "import scipy.io\n",
    "\n",
    "def getRelatedDiseases(G_ID, phenotype_network):\n",
    "    m = phenotype_network.shape[0]\n",
    "    line_num = 0\n",
    "    for i in range(m):\n",
    "        if phenotype_network[i, 0] == int(G_ID):\n",
    "            line_num = i\n",
    "            break\n",
    "\n",
    "    similarity_vec = phenotype_network[line_num, 1:]\n",
    "\n",
    "    pos = np.argsort(similarity_vec)\n",
    "    relationDiseasePos = pos[-5:]\n",
    "\n",
    "    relationDiseaseID = phenotype_network[relationDiseasePos, 0]\n",
    "\n",
    "    return relationDiseaseID, relationDiseasePos\n",
    "\n",
    "# 加载ppi_network\n",
    "ppi_network = scipy.io.loadmat(\"ppi_network.mat\")[\"ppi_network\"]\n",
    "n = ppi_network.shape[0]  # n是基因的数量 (8919)\n",
    "outDegree = np.sum(ppi_network, axis=1)\n",
    "ppi_network = ppi_network / outDegree.reshape(-1, 1)\n",
    "\n",
    "# 加载phenotype_network\n",
    "phenotype_network = scipy.io.loadmat(\"phenotype_network.mat\")[\"phenotype_network\"]\n",
    "\n",
    "# 加载g_p_network\n",
    "g_p_network = scipy.io.loadmat(\"g_p_network.mat\")[\"g_p_network\"]\n",
    "\n",
    "# 设置基因ID\n",
    "G_ID = \"1\"\n",
    "\n",
    "relatedDiseaseID, relatedDiseasePos = getRelatedDiseases(G_ID, phenotype_network)\n",
    "\n",
    "# 初始化优先级向量R\n",
    "R = np.zeros(n)\n",
    "\n",
    "for i in range(5):\n",
    "    pheno = relatedDiseasePos[i]\n",
    "    for j in range(n):\n",
    "        if g_p_network[j, pheno] != 0:\n",
    "            R[j] = 1\n",
    "\n",
    "if np.sum(R) > 0:\n",
    "    R = R / np.sum(R)\n",
    "\n",
    "for i in range(n):\n",
    "    if R[i] != 0:\n",
    "        print(\"PR {} is {}\".format(i, R[i]))\n",
    "\n",
    "# 迭代\n",
    "e = R\n",
    "iterator = 50\n",
    "d = 0.1\n",
    "\n",
    "for _ in range(iterator):\n",
    "    R = (1 - d) * np.dot(ppi_network, R) + d * e\n",
    "\n",
    "# 输出相关基因\n",
    "t = np.argsort(R)[::-1]\n",
    "print(\"Related genes (top 10):\")\n",
    "for i in range(min(10, len(t))):\n",
    "    print(f\"Gene {t[i]}: {R[t[i]]:.4f}\")\n"
   ]
  }
 ],
 "metadata": {
  "kernelspec": {
   "display_name": "Python 3 (ipykernel)",
   "language": "python",
   "name": "python3"
  },
  "language_info": {
   "codemirror_mode": {
    "name": "ipython",
    "version": 3
   },
   "file_extension": ".py",
   "mimetype": "text/x-python",
   "name": "python",
   "nbconvert_exporter": "python",
   "pygments_lexer": "ipython3",
   "version": "3.7.12"
  }
 },
 "nbformat": 4,
 "nbformat_minor": 2
}
