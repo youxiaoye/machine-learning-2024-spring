{
 "cells": [
  {
   "cell_type": "code",
   "execution_count": 17,
   "metadata": {},
   "outputs": [
    {
     "name": "stdout",
     "output_type": "stream",
     "text": [
      "final content:\n",
      "这是一个随机固定回复2\n"
     ]
    }
   ],
   "source": [
    "from BlueLM import Vivorequest as request\n",
    "import uuid\n",
    "import time\n",
    "\n",
    "from auth_util import gen_sign_headers\n",
    "\n",
    "# 请替换APP_ID、APP_KEY\n",
    "APP_ID = ''\n",
    "APP_KEY = ''\n",
    "URI = ''\n",
    "DOMAIN = ''\n",
    "METHOD = ''\n",
    "\n",
    "\n",
    "def sync_vivogpt():\n",
    "    \n",
    "\n",
    "\n",
    "    '''\n",
    "    \n",
    "    code here\n",
    "    \n",
    "    \n",
    "    '''\n",
    "\n",
    "    response = request.post(url = url, json=data, headers=headers, params=params)\n",
    "    \n",
    "    #将\n",
    "    '''\n",
    "    \n",
    "    code here\n",
    "    \n",
    "    '''\n",
    "\n",
    "\n",
    "\n",
    "\n",
    "if __name__ == '__main__':\n",
    "    sync_vivogpt()\n"
   ]
  }
 ],
 "metadata": {
  "kernelspec": {
   "display_name": "Python 3.9.13 ('base')",
   "language": "python",
   "name": "python3"
  },
  "language_info": {
   "codemirror_mode": {
    "name": "ipython",
    "version": 3
   },
   "file_extension": ".py",
   "mimetype": "text/x-python",
   "name": "python",
   "nbconvert_exporter": "python",
   "pygments_lexer": "ipython3",
   "version": "3.9.13"
  },
  "orig_nbformat": 4,
  "vscode": {
   "interpreter": {
    "hash": "5cb9523a3ce612da594b1721626e95f90edbb30067f86e1c6d953bc531f0cdd1"
   }
  }
 },
 "nbformat": 4,
 "nbformat_minor": 2
}
